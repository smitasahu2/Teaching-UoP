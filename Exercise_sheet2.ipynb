{
  "nbformat": 4,
  "nbformat_minor": 0,
  "metadata": {
    "colab": {
      "provenance": [],
      "include_colab_link": true
    },
    "kernelspec": {
      "name": "python3",
      "display_name": "Python 3"
    },
    "language_info": {
      "name": "python"
    }
  },
  "cells": [
    {
      "cell_type": "markdown",
      "metadata": {
        "id": "view-in-github",
        "colab_type": "text"
      },
      "source": [
        "<a href=\"https://colab.research.google.com/github/smitasahu2/Teaching-UoP/blob/main/Exercise_sheet2.ipynb\" target=\"_parent\"><img src=\"https://colab.research.google.com/assets/colab-badge.svg\" alt=\"Open In Colab\"/></a>"
      ]
    },
    {
      "cell_type": "code",
      "source": [
        "import numpy as np\n",
        "import matplotlib.pyplot as plt\n",
        "\n",
        "# Define x range\n",
        "x = np.linspace(-5, 5, 400)\n",
        "\n",
        "# 1. ẋ = cosh(x)\n",
        "plt.figure()\n",
        "plt.plot(x, np.cosh(x))\n",
        "plt.title(r\"$\\dot{x} = \\cosh(x)$\")\n",
        "plt.grid(True)\n",
        "\n",
        "# 2. ẋ = (x - a)^2 (assuming a = 1)\n",
        "a = 1\n",
        "plt.figure()\n",
        "plt.plot(x, (x - a)**2)\n",
        "plt.title(r\"$\\dot{x} = (x - a)^2$\")\n",
        "plt.grid(True)\n",
        "\n",
        "# 3. ẋ = sin(x)\n",
        "x = np.linspace(-2 * np.pi, 2 * np.pi, 400)  # Widen x range for sine function\n",
        "plt.figure()\n",
        "plt.plot(x, np.sin(x))\n",
        "plt.title(r\"$\\dot{x} = \\sin(x)$\")\n",
        "plt.grid(True)\n",
        "\n",
        "# 4. ẋ = cos(x) - 1\n",
        "plt.figure()\n",
        "plt.plot(x, np.cos(x) - 1)\n",
        "plt.title(r\"$\\dot{x} = \\cos(x) - 1$\")\n",
        "plt.grid(True)\n",
        "\n",
        "# 5. ẋ = cosh(x) - 1\n",
        "x = np.linspace(-5, 5, 400)\n",
        "plt.figure()\n",
        "plt.plot(x, np.cosh(x) - 1)\n",
        "plt.title(r\"$\\dot{x} = \\cosh(x) - 1$\")\n",
        "plt.grid(True)\n",
        "\n",
        "# 6. ẋ = sin(2x)\n",
        "x = np.linspace(-2 * np.pi, 2 * np.pi, 400)  # Widen x range for sine function\n",
        "plt.figure()\n",
        "plt.plot(x, np.sin(2 * x))\n",
        "plt.title(r\"$\\dot{x} = \\sin(2x)$\")\n",
        "plt.grid(True)\n",
        "\n",
        "# 7. ẋ = exp(x)\n",
        "x = np.linspace(-2, 2, 400)  # Restrict x range for exponential function\n",
        "plt.figure()\n",
        "plt.plot(x, np.exp(x))\n",
        "plt.title(r\"$\\dot{x} = \\exp(x)$\")\n",
        "plt.grid(True)\n",
        "\n",
        "# 8. ẋ = sinh^2(x - b) (assuming b = 1)\n",
        "b = 1\n",
        "x = np.linspace(-5, 5, 400)\n",
        "plt.figure()\n",
        "plt.plot(x, np.sinh(x - b)**2)\n",
        "plt.title(r\"$\\dot{x} = \\sinh^2(x - b)$\")\n",
        "plt.grid(True)\n",
        "\n",
        "# 9. ẋ = x^2 - x\n",
        "plt.figure()\n",
        "plt.plot(x, x**2 - x)\n",
        "plt.title(r\"$\\dot{x} = x^2 - x$\")\n",
        "plt.grid(True)\n",
        "\n",
        "# 10. ẋ = x - x^2\n",
        "plt.figure()\n",
        "plt.plot(x, x - x**2)\n",
        "plt.title(r\"$\\dot{x} = x - x^2$\")\n",
        "plt.grid(True)\n",
        "\n",
        "# Show all plots\n",
        "plt.show()\n"
      ],
      "metadata": {
        "id": "dWbrdBZ6pvzq"
      },
      "execution_count": null,
      "outputs": []
    }
  ]
}